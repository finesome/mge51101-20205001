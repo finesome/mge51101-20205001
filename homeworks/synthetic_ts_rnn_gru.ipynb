{
 "cells": [
  {
   "cell_type": "markdown",
   "metadata": {
    "colab_type": "text",
    "id": "view-in-github"
   },
   "source": [
    "<a href=\"https://colab.research.google.com/github/sungbinlim/mge51101-instruct/blob/master/coursework/Lecture_8_Recurrent_Neural_Networks.ipynb\" target=\"_parent\"><img src=\"https://colab.research.google.com/assets/colab-badge.svg\" alt=\"Open In Colab\"/></a>"
   ]
  },
  {
   "cell_type": "markdown",
   "metadata": {
    "colab_type": "text",
    "id": "0C81663YvBQP"
   },
   "source": [
    "# Synthetic time series with RNN and GRU\n",
    "## Iskakov Alisher"
   ]
  },
  {
   "cell_type": "code",
   "execution_count": 6,
   "metadata": {
    "colab": {},
    "colab_type": "code",
    "id": "ktQomXRzuk3V"
   },
   "outputs": [],
   "source": [
    "import numpy as np\n",
    "import matplotlib.pyplot as plt\n",
    "import torch\n",
    "import torch.nn as nn\n",
    "\n",
    "from torch.utils.data import TensorDataset\n",
    "from torch.utils.data import DataLoader"
   ]
  },
  {
   "cell_type": "markdown",
   "metadata": {
    "colab_type": "text",
    "id": "SrXi8n9vu_oj"
   },
   "source": [
    "### Generating synthetic time series\n",
    "\n",
    "Let's suppose simple regression problem.\n",
    "\n",
    "$$\n",
    "f(t) = \\sin(0.01t) + 0.2 \\epsilon,\\quad \\epsilon\\sim\\mathcal{N}(0,1), \\quad t\\in [0,1000]\n",
    "$$"
   ]
  },
  {
   "cell_type": "code",
   "execution_count": 4,
   "metadata": {
    "colab": {
     "base_uri": "https://localhost:8080/",
     "height": 279
    },
    "colab_type": "code",
    "id": "abwLBkPy4z86",
    "outputId": "0d6d1840-1906-4fc6-8206-4168d076fcf5"
   },
   "outputs": [
    {
     "data": {
      "image/png": "[encoded data removed]",
      "text/plain": [
       "<Figure size 432x288 with 1 Axes>"
      ]
     },
     "metadata": {
      "needs_background": "light"
     },
     "output_type": "display_data"
    }
   ],
   "source": [
    "T = 1000\n",
    "time = torch.arange(0.0, T)\n",
    "X = torch.sin(0.01 * time) + 0.2 * torch.randn(T)\n",
    "plt.plot(time.numpy(), X.numpy(), label=\"sin(0.01*time)+noise\");\n",
    "plt.legend();\n",
    "plt.xlabel(\"Time\");\n",
    "plt.show()"
   ]
  },
  {
   "cell_type": "markdown",
   "metadata": {
    "colab_type": "text",
    "id": "up5GBF3w54Aa"
   },
   "source": [
    "### AutoRegressive (AR) Model\n",
    "\n",
    "Let's take $\\tau = 4$ for `timespan` (or embedding dimension)\n",
    "\n",
    "$$\n",
    "y_{t} = x_{t},\\quad \\mathbf{z}_{t}(x_{t-1},\\ldots, x_{t-\\tau})\n",
    "$$"
   ]
  },
  {
   "cell_type": "code",
   "execution_count": 5,
   "metadata": {
    "colab": {},
    "colab_type": "code",
    "id": "qzcHjbRm5RNf"
   },
   "outputs": [],
   "source": [
    "# Hyperparameter\n",
    "batch_size, train_number = 16, 600\n",
    "\n",
    "# timestamp\n",
    "tau = 4\n",
    "features = torch.zeros((T-tau, tau)) # AR Model needs tau inputs: shape is (996, 4)\n",
    "\n",
    "for i in range(tau):\n",
    "    features[:, i] = X[i:(T-tau + i)]\n",
    "labels = X[tau:] # shape is (996, )\n",
    "\n",
    "# Prepare DataLoader\n",
    "train_data = TensorDataset(features[:train_number, :], labels[:train_number])\n",
    "test_data = TensorDataset(features[train_number:, :], labels[train_number:])"
   ]
  },
  {
   "cell_type": "markdown",
   "metadata": {},
   "source": [
    "### MLP"
   ]
  },
  {
   "cell_type": "code",
   "execution_count": 7,
   "metadata": {
    "colab": {},
    "colab_type": "code",
    "id": "U9OyxqL16jhY"
   },
   "outputs": [],
   "source": [
    "# Parameter Initialization\n",
    "def init_weight(map_):\n",
    "    if type(map_) == nn.Linear:\n",
    "        torch.nn.init.xavier_uniform_(map_.weight)\n",
    "\n",
    "# Vanilla MLP architecture\n",
    "def MLP():\n",
    "    net = nn.Sequential()\n",
    "    net.add_module(\"Linear_1\", nn.Linear(tau, 10, bias=False))\n",
    "    net.add_module(\"ReLU\", nn.ReLU())\n",
    "    net.add_module(\"Final\", nn.Linear(10, 1, bias=False))\n",
    "    net.apply(init_weight)\n",
    "\n",
    "    return net"
   ]
  },
  {
   "cell_type": "code",
   "execution_count": 47,
   "metadata": {
    "colab": {
     "base_uri": "https://localhost:8080/",
     "height": 204
    },
    "colab_type": "code",
    "id": "MM24JaON-l_X",
    "outputId": "cee10a3e-7fea-4be1-ba54-d3bdc9b2f82f"
   },
   "outputs": [
    {
     "name": "stdout",
     "output_type": "stream",
     "text": [
      "epoch: 1, loss: 2.65\n",
      "epoch: 2, loss: 2.05\n",
      "epoch: 3, loss: 2.03\n",
      "epoch: 4, loss: 2.03\n",
      "epoch: 5, loss: 2.05\n",
      "epoch: 6, loss: 2.12\n",
      "epoch: 7, loss: 1.95\n",
      "epoch: 8, loss: 1.96\n",
      "epoch: 9, loss: 1.99\n",
      "epoch: 10, loss: 2.05\n",
      "test loss: 0.047403\n"
     ]
    }
   ],
   "source": [
    "# Least mean squares loss\n",
    "criterion = nn.MSELoss()\n",
    "optimizer = torch.optim.Adam\n",
    "\n",
    "# textbook code\n",
    "def train_net(net, data, criterion, epochs, lr_rate):\n",
    "    optim = optimizer(net.parameters(), lr=lr_rate)\n",
    "    data_iter = DataLoader(data, batch_size, shuffle=True)\n",
    "\n",
    "    for epoch in range(1, epochs+1):\n",
    "        running_loss = 0.0\n",
    "        \n",
    "        for x, y in data_iter:\n",
    "            optim.zero_grad()\n",
    "            output = net(x)\n",
    "            loss = criterion(output, y.reshape(-1, 1))\n",
    "            loss.backward()\n",
    "            optim.step()\n",
    "            running_loss += loss.item()\n",
    "        \n",
    "        print(\"epoch: {}, loss: {:.2f}\".format(epoch, running_loss))\n",
    "    \n",
    "    test_loss = criterion(net(test_data[:][0]), test_data[:][1].reshape(-1,1))\n",
    "    print('test loss: %f' % test_loss.mean().detach().numpy())\n",
    "\n",
    "    return net\n",
    "    \n",
    "net = MLP()\n",
    "net = train_net(net, train_data, criterion, 10, 0.01)"
   ]
  },
  {
   "cell_type": "code",
   "execution_count": 48,
   "metadata": {
    "colab": {
     "base_uri": "https://localhost:8080/",
     "height": 265
    },
    "colab_type": "code",
    "id": "cSOcPbwmAdT5",
    "outputId": "5c60ffc7-8292-460d-b36a-163cecb5134a"
   },
   "outputs": [
    {
     "data": {
      "image/png": "[encoded data removed]",
      "text/plain": [
       "<Figure size 432x288 with 1 Axes>"
      ]
     },
     "metadata": {
      "needs_background": "light"
     },
     "output_type": "display_data"
    }
   ],
   "source": [
    "estimates = net(features)\n",
    "plt.plot(time.numpy(), X.numpy(), label='GT');\n",
    "plt.plot(time[tau:].numpy(), estimates.detach().numpy(), label='Estimate');\n",
    "plt.legend();"
   ]
  },
  {
   "cell_type": "markdown",
   "metadata": {
    "colab_type": "text",
    "id": "AtNje9NaDTuw"
   },
   "source": [
    "### Why forecasting is not simple\n",
    "\n",
    "In reality, for $t > 600$, we cannot use $x_{t}$ in AR. Instead we have to use $\\hat{x}_{t}$ recursively:\n",
    "\n",
    "$$\n",
    "\\begin{aligned}\n",
    "\\hat{x}_{601} &= f(x_{600}, x_{599}, x_{598}, x_{597}) \\\\  \n",
    "\\hat{x}_{602} &= f(\\hat{x}_{601}, x_{600}, x_{599}, x_{598}) \\\\\n",
    "\\hat{x}_{603} &= f(\\hat{x}_{602}, \\hat{x}_{601}, x_{600}, x_{599}) \\\\\n",
    "\\hat{x}_{604} &= f(\\hat{x}_{603}, \\hat{x}_{602}, \\hat{x}_{601}, x_{600})\n",
    "\\end{aligned}\n",
    "$$"
   ]
  },
  {
   "cell_type": "code",
   "execution_count": 64,
   "metadata": {
    "colab": {
     "base_uri": "https://localhost:8080/",
     "height": 265
    },
    "colab_type": "code",
    "id": "aptmnbbZA8xC",
    "outputId": "f55357b9-189d-4afe-aaf3-7bb944993a83"
   },
   "outputs": [
    {
     "data": {
      "image/png": "[encoded data removed]",
      "text/plain": [
       "<Figure size 432x288 with 1 Axes>"
      ]
     },
     "metadata": {
      "needs_background": "light"
     },
     "output_type": "display_data"
    }
   ],
   "source": [
    "predictions = torch.zeros_like(estimates)\n",
    "predictions[:(train_number - tau)] = estimates[:(train_number - tau)]\n",
    "\n",
    "for i in range((train_number - tau), (T - tau)):\n",
    "    predictions[i] = net(\n",
    "        predictions[(i - tau):i].reshape(1, -1)\n",
    "    ).reshape(1)\n",
    "\n",
    "plt.plot(time.numpy(), X.numpy(), label='GT');\n",
    "plt.plot(time[tau:].numpy(), predictions.detach().numpy(), label='Prediction');\n",
    "plt.legend();"
   ]
  },
  {
   "cell_type": "code",
   "execution_count": 65,
   "metadata": {
    "colab": {
     "base_uri": "https://localhost:8080/",
     "height": 265
    },
    "colab_type": "code",
    "id": "s1EBKZ9tCz1Z",
    "outputId": "f1ec884a-93cc-4537-9696-a9ead3907c4d"
   },
   "outputs": [
    {
     "data": {
      "image/png": "[encoded data removed]",
      "text/plain": [
       "<Figure size 432x288 with 1 Axes>"
      ]
     },
     "metadata": {
      "needs_background": "light"
     },
     "output_type": "display_data"
    }
   ],
   "source": [
    "k = 33  # Look up to k - tau steps ahead\n",
    "\n",
    "features = torch.zeros((T-k, k))\n",
    "for i in range(tau):\n",
    "    features[:, i] = X[i:T-k+i]\n",
    "\n",
    "for i in range(tau, k):\n",
    "    features[:, i] = net(features[:,(i-tau):i]).reshape((-1))\n",
    "\n",
    "for i in (4, 8, 16, 32):\n",
    "    plt.plot(time[i:T-k+i].numpy(), features[:, i].detach().numpy(),\n",
    "             label=('step ' + str(i)))\n",
    "plt.legend();"
   ]
  },
  {
   "cell_type": "markdown",
   "metadata": {
    "colab_type": "text",
    "id": "1FMtUCdfunap"
   },
   "source": [
    "## Recurrent Neural Networks\n",
    "\n",
    "We use the following setting\n",
    "\n",
    "$$\n",
    "p(x_{t}|x_{t-1},\\ldots, x_{1}) \\approx p(x_{t}|x_{t-1}, h_{t})\n",
    "$$\n",
    "\n",
    "Here $h_{t}$ is a latent variable that stores the sequence information:\n",
    "\n",
    "$$\n",
    "h_{t} = f(x_{t}, h_{t-1})\n",
    "$$"
   ]
  },
  {
   "cell_type": "markdown",
   "metadata": {},
   "source": [
    "### RNN"
   ]
  },
  {
   "cell_type": "code",
   "execution_count": 32,
   "metadata": {
    "colab": {},
    "colab_type": "code",
    "id": "O_QCahF5GrZz"
   },
   "outputs": [],
   "source": [
    "class RNN(nn.Module):\n",
    "    def __init__(self, input_size, hidden_size, num_layers, output_size):\n",
    "        super(RNN, self).__init__()\n",
    "\n",
    "        self.input_size = input_size\n",
    "        self.hidden_size = hidden_size\n",
    "        self.num_layers = num_layers\n",
    "        self.output_size = output_size\n",
    "        \n",
    "        self.rnn = nn.RNN(input_size, hidden_size, num_layers, batch_first=True)\n",
    "        self.fc = nn.Linear(hidden_size, output_size)\n",
    "        \n",
    "    def forward(self, inputs, hidden):\n",
    "        \n",
    "        inputs = inputs.view(1, 1, -1) # (batch_size, seq_size, n_hidden)\n",
    "        hidden = hidden.view(self.num_layers, 1, -1)\n",
    "\n",
    "        output, hidden = self.rnn(inputs, hidden)\n",
    "        output = self.fc(output)\n",
    "\n",
    "        return output, hidden\n",
    "    \n",
    "    def initHidden(self):\n",
    "        return torch.zeros(1, self.hidden_size)"
   ]
  },
  {
   "cell_type": "markdown",
   "metadata": {},
   "source": [
    "### GRU"
   ]
  },
  {
   "cell_type": "code",
   "execution_count": 33,
   "metadata": {},
   "outputs": [],
   "source": [
    "class GRU(nn.Module):\n",
    "    def __init__(self, input_size, hidden_size, num_layers, output_size):\n",
    "        super(GRU, self).__init__()\n",
    "\n",
    "        self.input_size = input_size\n",
    "        self.hidden_size = hidden_size\n",
    "        self.num_layers = num_layers\n",
    "        self.output_size = output_size\n",
    "\n",
    "        self.gru = nn.GRU(input_size, hidden_size, num_layers, batch_first=True)\n",
    "        self.fc = nn.Linear(hidden_size, output_size)\n",
    "        \n",
    "    def forward(self, inputs, hidden):\n",
    "        \n",
    "        inputs = inputs.view(1, 1, -1) # (batch_size, seq_size, n_hidden)\n",
    "        hidden = hidden.view(self.num_layers, 1, -1)\n",
    "\n",
    "        output, hidden = self.gru(inputs, hidden)\n",
    "        output = self.fc(output)\n",
    "\n",
    "        return output, hidden\n",
    "    \n",
    "    def initHidden(self):\n",
    "        return torch.zeros(1, self.hidden_size)"
   ]
  },
  {
   "cell_type": "markdown",
   "metadata": {
    "colab_type": "text",
    "id": "l5vN23-fl3Cm"
   },
   "source": [
    "## Language Example using `torch.nn.RNN`"
   ]
  },
  {
   "cell_type": "code",
   "execution_count": 12,
   "metadata": {
    "colab": {},
    "colab_type": "code",
    "id": "e3Rm6v3fl6H9"
   },
   "outputs": [],
   "source": [
    "string = \"hello pytorch? deep learning is fun!\"\n",
    "chars = \"abcdefghijklmnopqrstuvwxyz ?!.,:;01\"\n",
    "char_list = [char for char in chars]"
   ]
  },
  {
   "cell_type": "code",
   "execution_count": 13,
   "metadata": {
    "colab": {},
    "colab_type": "code",
    "id": "BndPBPzHmK8x"
   },
   "outputs": [],
   "source": [
    "char_len = len(char_list)\n",
    "string_len = len(string)\n",
    "\n",
    "def string_to_onehot(string):\n",
    "    \"\"\"\n",
    "    String to onehot vector\n",
    "    a -> [1 0 0 ... 0 0]\n",
    "    \"\"\"\n",
    "    start = np.zeros(shape=char_len ,dtype=int)\n",
    "    end = np.zeros(shape=char_len ,dtype=int)\n",
    "    start[-2] = 1\n",
    "    end[-1] = 1\n",
    "    for s in string:\n",
    "        idx = char_list.index(s)\n",
    "        zero = np.zeros(shape=char_len ,dtype=int)\n",
    "        zero[idx]=1\n",
    "        start = np.vstack([start,zero])\n",
    "    output = np.vstack([start,end])\n",
    "    return output\n",
    "\n",
    "def onehot_to_word(onehot):\n",
    "    \"\"\"\n",
    "    Onehot vector to word\n",
    "    [1 0 0 ... 0 0] -> a \n",
    "    \"\"\"\n",
    "    onehot = torch.Tensor.numpy(onehot)\n",
    "    return char_list[onehot.argmax()]\n",
    "\n",
    "one_hot = torch.tensor(string_to_onehot(string), dtype=torch.float)"
   ]
  },
  {
   "cell_type": "code",
   "execution_count": 34,
   "metadata": {
    "colab": {},
    "colab_type": "code",
    "id": "UFaY_exnSr43"
   },
   "outputs": [],
   "source": [
    "# Hyperparameters\n",
    "n_hidden = 37\n",
    "lr = 0.01\n",
    "epochs = 200\n",
    "\n",
    "model = RNN(char_len, n_hidden, 1, char_len)\n",
    "criterion = nn.MSELoss()\n",
    "optimizer = torch.optim.Adam(model.parameters(), lr=lr)"
   ]
  },
  {
   "cell_type": "code",
   "execution_count": 52,
   "metadata": {
    "colab": {
     "base_uri": "https://localhost:8080/",
     "height": 51
    },
    "colab_type": "code",
    "id": "vbvmhgHonhkP",
    "outputId": "e6876a45-1eed-4848-9435-3d4d9862fb37"
   },
   "outputs": [
    {
     "name": "stdout",
     "output_type": "stream",
     "text": [
      "loss: 2.24471\n",
      "loss: 0.01081\n"
     ]
    }
   ],
   "source": [
    "for epoch in range(epochs):\n",
    "    model.zero_grad()\n",
    "    running_loss = 0\n",
    "    hidden = model.initHidden()\n",
    "\n",
    "    for idx in range(one_hot.size()[0]-1):\n",
    "        inputs = one_hot[idx:idx+1,:].reshape(1, 1, -1)\n",
    "        output, hidden = model(inputs, hidden) \n",
    "        target = one_hot[idx+1]\n",
    "        loss = criterion(output.view(-1),target.view(-1))\n",
    "        running_loss += loss\n",
    "\n",
    "    running_loss.backward()\n",
    "    optimizer.step()\n",
    "\n",
    "    if epoch % 100 == 0:\n",
    "        print(\"loss: {:.5f}\".format(running_loss.data))"
   ]
  },
  {
   "cell_type": "code",
   "execution_count": 53,
   "metadata": {
    "colab": {
     "base_uri": "https://localhost:8080/",
     "height": 34
    },
    "colab_type": "code",
    "id": "RXV9GfVknn0T",
    "outputId": "ef582601-918c-4db6-9219-fcd311cc48b8"
   },
   "outputs": [
    {
     "name": "stdout",
     "output_type": "stream",
     "text": [
      "hello pytorch? deep learnilg lnarnpr"
     ]
    }
   ],
   "source": [
    "hidden = model.initHidden()\n",
    "inputs = one_hot[0:1,:].reshape(1, 1, -1)\n",
    "\n",
    "for i in range(string_len):\n",
    "    output, hidden = model(inputs, hidden)\n",
    "    print(onehot_to_word(output.data), end=\"\")\n",
    "    inputs = output"
   ]
  },
  {
   "cell_type": "code",
   "execution_count": null,
   "metadata": {
    "colab": {},
    "colab_type": "code",
    "id": "TwucPK1EoGxr"
   },
   "outputs": [],
   "source": []
  }
 ],
 "metadata": {
  "colab": {
   "authorship_tag": "ABX9TyNyxwcN/s639cnwxuyMWQ9D",
   "collapsed_sections": [],
   "include_colab_link": true,
   "name": "Lecture 8: Recurrent Neural Networks",
   "provenance": []
  },
  "kernelspec": {
   "display_name": "Python 3",
   "language": "python",
   "name": "python3"
  },
  "language_info": {
   "codemirror_mode": {
    "name": "ipython",
    "version": 3
   },
   "file_extension": ".py",
   "mimetype": "text/x-python",
   "name": "python",
   "nbconvert_exporter": "python",
   "pygments_lexer": "ipython3",
   "version": "3.7.6"
  }
 },
 "nbformat": 4,
 "nbformat_minor": 4
}
