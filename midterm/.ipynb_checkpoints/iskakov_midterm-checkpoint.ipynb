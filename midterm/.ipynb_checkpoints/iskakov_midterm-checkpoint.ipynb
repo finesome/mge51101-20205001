{
 "cells": [
  {
   "cell_type": "markdown",
   "metadata": {
    "colab_type": "text",
    "id": "B0vDJ2UFySvQ"
   },
   "source": [
    "## MGE55101 Midterm Assignment\n",
    "## LeNet and AlexNet on CIFAR-10 dataset\n",
    "## Iskakov Alisher"
   ]
  },
  {
   "cell_type": "code",
   "execution_count": 68,
   "metadata": {
    "colab": {},
    "colab_type": "code",
    "id": "cUvSrMY5yQyR"
   },
   "outputs": [],
   "source": [
    "import numpy as np\n",
    "import matplotlib.pyplot as plt\n",
    "import sys\n",
    "sys.path.insert(0, '..')\n",
    "\n",
    "import torch\n",
    "import torch.nn as nn\n",
    "import torch.optim as optim\n",
    "import torchvision\n",
    "import torchvision.transforms as transforms\n",
    "\n",
    "from torch.utils.data import DataLoader"
   ]
  },
  {
   "cell_type": "markdown",
   "metadata": {},
   "source": [
    "### Loading data"
   ]
  },
  {
   "cell_type": "markdown",
   "metadata": {},
   "source": [
    "First of all, it is necessary to obtain data. For this experiment, CIFAR-10 dataset is selected. It can be easily used with PyTorch, since it is contained in torchvision library. Also, there are specific preprocessing steps which are applied to images."
   ]
  },
  {
   "cell_type": "code",
   "execution_count": 91,
   "metadata": {},
   "outputs": [],
   "source": [
    "# CIFAR preprocessing\n",
    "# train data\n",
    "transform_train = transforms.Compose([\n",
    "    transforms.RandomCrop(32, padding=4),\n",
    "    transforms.RandomHorizontalFlip(),\n",
    "    transforms.ToTensor(),\n",
    "    transforms.Normalize((0.4914, 0.4822, 0.4465), (0.2023, 0.1994, 0.2010)),\n",
    "])\n",
    "# test data\n",
    "transform_test = transforms.Compose([\n",
    "    transforms.ToTensor(),\n",
    "    transforms.Normalize((0.4914, 0.4822, 0.4465), (0.2023, 0.1994, 0.2010)),\n",
    "])"
   ]
  },
  {
   "cell_type": "code",
   "execution_count": 92,
   "metadata": {},
   "outputs": [
    {
     "name": "stdout",
     "output_type": "stream",
     "text": [
      "Files already downloaded and verified\n",
      "Files already downloaded and verified\n"
     ]
    }
   ],
   "source": [
    "# loading CIFAR-10 dataset\n",
    "cifar_train = torchvision.datasets.CIFAR10(root=\"./\", \n",
    "                                         train=True, \n",
    "                                         download=True,\n",
    "                                         transform=transform_train\n",
    "                                         )\n",
    "cifar_test = torchvision.datasets.CIFAR10(root=\"./\", \n",
    "                                        train=False, \n",
    "                                        download=True,\n",
    "                                        transform=transform_test)"
   ]
  },
  {
   "cell_type": "markdown",
   "metadata": {},
   "source": [
    "I define the size of batches and number of output classes (will be used in models). To load the CIFAR-10 data, a dataloader must be created as a wrapper of dataset class. There are separate dataloaders for training and testing data."
   ]
  },
  {
   "cell_type": "code",
   "execution_count": 93,
   "metadata": {},
   "outputs": [],
   "source": [
    "# specify batch size\n",
    "batch_size = 128\n",
    "# number of output classes\n",
    "num_classes = 10\n",
    "\n",
    "# creating dataloader\n",
    "train_loader = DataLoader(cifar_train, batch_size=batch_size, shuffle=True, num_workers=4)\n",
    "test_loader = DataLoader(cifar_test, batch_size=batch_size, shuffle=False, num_workers=4)"
   ]
  },
  {
   "cell_type": "markdown",
   "metadata": {
    "colab_type": "text",
    "id": "B9EHuhjGy9qq"
   },
   "source": [
    "### Models"
   ]
  },
  {
   "cell_type": "markdown",
   "metadata": {},
   "source": [
    "The first model is LeNet by Y. LeCun et al. It is pretty straightforward to desing this network architecture, since in the original paper the size of the input is also defined as 32x32. "
   ]
  },
  {
   "cell_type": "code",
   "execution_count": 81,
   "metadata": {
    "colab": {},
    "colab_type": "code",
    "id": "ONGWFMu_y2Jt"
   },
   "outputs": [],
   "source": [
    "class LeNet(nn.Module):\n",
    "    def __init__(self):\n",
    "        super(LeNet, self).__init__()\n",
    "        # feature extractor\n",
    "        self.features = nn.Sequential(\n",
    "            nn.Conv2d(3, 6, 5),\n",
    "            nn.Sigmoid(),\n",
    "            nn.AvgPool2d(2, stride=2),\n",
    "            nn.Conv2d(6, 16, 5),\n",
    "            nn.Sigmoid(),\n",
    "            nn.AvgPool2d(2, stride=2)\n",
    "        )\n",
    "        # classifier\n",
    "        self.classifier = nn.Sequential(\n",
    "            nn.Flatten(),\n",
    "            nn.Linear(400, 120),\n",
    "            nn.Sigmoid(),\n",
    "            nn.Linear(120, 84),\n",
    "            nn.Sigmoid(),\n",
    "            nn.Linear(84, num_classes)\n",
    "        )\n",
    "    \n",
    "    def forward(self, inputs):\n",
    "        hidden = self.features(inputs)\n",
    "        outputs = self.classifier(hidden)\n",
    "        return outputs"
   ]
  },
  {
   "cell_type": "markdown",
   "metadata": {},
   "source": [
    "The next model is AlexNet by A. Krizhevsky et al. I had to heavily modify AlexNet architecture since it was originally designed for 224x224x3 images. Using the same parameters for convolutional and pooling layers will decrease the shape of 32x32x3 image (in CIFAR-10) very fast. Hence, it is necessary to control filter sizes, padding and stride parameters."
   ]
  },
  {
   "cell_type": "code",
   "execution_count": 95,
   "metadata": {},
   "outputs": [],
   "source": [
    "class AlexNet(nn.Module):\n",
    "    def __init__(self):\n",
    "        super(AlexNet, self).__init__()\n",
    "        # feature extractor\n",
    "        self.features = nn.Sequential(\n",
    "            nn.Conv2d(3, 96, 3, padding=1),\n",
    "            nn.ReLU(),\n",
    "            \n",
    "            nn.MaxPool2d(2),\n",
    "            \n",
    "            nn.Conv2d(96, 256, 3, padding=1),\n",
    "            nn.ReLU(),\n",
    "            \n",
    "            nn.MaxPool2d(2),\n",
    "            \n",
    "            nn.Conv2d(256, 384, 3, padding=1),\n",
    "            nn.ReLU(),\n",
    "            nn.Conv2d(384, 384, 3, padding=1),\n",
    "            nn.ReLU(),\n",
    "            nn.Conv2d(384, 256, 3, padding=1),\n",
    "            nn.ReLU(),\n",
    "            \n",
    "            nn.MaxPool2d(2),\n",
    "        )\n",
    "        # classifier\n",
    "        self.classifier = nn.Sequential(\n",
    "            nn.Flatten(),\n",
    "            nn.Dropout(),\n",
    "            nn.Linear(4096, 4096),\n",
    "            nn.ReLU(),\n",
    "            nn.Dropout(),\n",
    "            nn.Linear(4096, 4096),\n",
    "            nn.ReLU(),\n",
    "            nn.Linear(4096, num_classes)\n",
    "        )\n",
    "    \n",
    "    def forward(self, inputs):\n",
    "        hidden = self.features(inputs)\n",
    "        outputs = self.classifier(hidden)\n",
    "        return outputs"
   ]
  },
  {
   "cell_type": "code",
   "execution_count": 96,
   "metadata": {
    "colab": {},
    "colab_type": "code",
    "id": "ONGWFMu_y2Jt"
   },
   "outputs": [],
   "source": [
    "# training hyperparameters\n",
    "lr = 1e-3\n",
    "lr_min = 0.1 * lr\n",
    "weight_decay = 1e-4\n",
    "num_epochs = 100\n",
    "\n",
    "# loss function & optimizers\n",
    "criterion = nn.CrossEntropyLoss()\n",
    "optimizer = optim.Adam\n",
    "lr_scheduler = optim.lr_scheduler.CosineAnnealingLR"
   ]
  },
  {
   "cell_type": "code",
   "execution_count": 97,
   "metadata": {
    "colab": {},
    "colab_type": "code",
    "id": "ONGWFMu_y2Jt"
   },
   "outputs": [],
   "source": [
    "# initialize model and move to GPU\n",
    "# model = LeNet().cuda()\n",
    "model = AlexNet().cuda()"
   ]
  },
  {
   "cell_type": "code",
   "execution_count": 98,
   "metadata": {},
   "outputs": [],
   "source": [
    "optimizer = optimizer(model.parameters(),\n",
    "                      lr=lr,\n",
    "                      weight_decay=weight_decay)"
   ]
  },
  {
   "cell_type": "markdown",
   "metadata": {},
   "source": [
    "## Metric logger"
   ]
  },
  {
   "cell_type": "code",
   "execution_count": 99,
   "metadata": {},
   "outputs": [],
   "source": [
    "class accumulator():\n",
    "    def __init__(self):\n",
    "        self.cnt = 0\n",
    "        self.obs = 0\n",
    "        self.loss = 0\n",
    "\n",
    "    def add(self, predict, output):\n",
    "\n",
    "        assert len(predict) == len(output)\n",
    "\n",
    "        self.cnt += self.count(predict, output).cpu().numpy()\n",
    "        self.obs += len(predict)\n",
    "    \n",
    "    def count(self, predict, output):\n",
    "        correct = torch.sum(torch.argmax(predict, dim=1) == output)\n",
    "        \n",
    "        return correct\n",
    "        \n",
    "    def loss_update(self, loss, batch_size):\n",
    "        self.loss += loss * batch_size\n",
    "\n",
    "    def running_stat(self):\n",
    "        if self.obs != 0:\n",
    "            run_acc = 100 * self.cnt / self.obs\n",
    "            run_loss = self.loss / self.obs\n",
    "        else: \n",
    "            run_acc = 0\n",
    "            rum_loss = 0\n",
    "\n",
    "        return run_acc, run_loss\n",
    "\n",
    "    def reset(self):\n",
    "        self.__init__()"
   ]
  },
  {
   "cell_type": "markdown",
   "metadata": {
    "colab_type": "text",
    "id": "qPoV6AuBnARk"
   },
   "source": [
    "## Training & evaluation"
   ]
  },
  {
   "cell_type": "code",
   "execution_count": 100,
   "metadata": {},
   "outputs": [],
   "source": [
    "# Template for running epoch\n",
    "def run_epoch(data_loader, metric_accumulator, train=False):\n",
    "    if train:\n",
    "        model.train()\n",
    "        scheduler = lr_scheduler(optimizer, \n",
    "                              len(data_loader), \n",
    "                              eta_min=lr_min)\n",
    "    else:\n",
    "        model.eval()\n",
    "    \n",
    "    for inputs, targets in data_loader:\n",
    "\n",
    "        # Upload data to GPU\n",
    "        inputs, targets = inputs.cuda(), targets.cuda()\n",
    "        if train:\n",
    "            predict = model(inputs)    \n",
    "        else:\n",
    "            with torch.autograd.no_grad():\n",
    "                predict = model(inputs)\n",
    "\n",
    "        # Compute loss\n",
    "        loss = criterion(predict, targets)\n",
    "\n",
    "        # Backpropagation\n",
    "        if train:\n",
    "            optimizer.zero_grad()\n",
    "            loss.backward()\n",
    "            optimizer.step()   \n",
    "            scheduler.step()\n",
    "\n",
    "        metric_accumulator.add(predict, targets)\n",
    "        metric_accumulator.loss_update(loss, batch_size)"
   ]
  },
  {
   "cell_type": "code",
   "execution_count": 101,
   "metadata": {},
   "outputs": [],
   "source": [
    "# Log initiate\n",
    "with open(\"log_alexnet.txt\", \"w\") as log:\n",
    "    init_log = \"Epoch: {}, Batch size: {}, Optimizer: {}\".format(num_epochs, \n",
    "                                                                 batch_size, \n",
    "                                                                 optimizer)\n",
    "    log.write(init_log)"
   ]
  },
  {
   "cell_type": "code",
   "execution_count": 102,
   "metadata": {},
   "outputs": [],
   "source": [
    "accuracy_graph = {'train':[], 'test':[], 'epoch': []}\n",
    "loss_graph = {'train':[], 'test':[], 'epoch': []}"
   ]
  },
  {
   "cell_type": "code",
   "execution_count": null,
   "metadata": {},
   "outputs": [],
   "source": [
    "# Experiment\n",
    "for epoch in range(num_epochs):\n",
    "\n",
    "    train_accuracy = accumulator()\n",
    "    test_accuracy = accumulator()\n",
    "\n",
    "    # Training\n",
    "    run_epoch(train_loader, train_accuracy, train=True)\n",
    "\n",
    "    # Evaluation\n",
    "    if epoch % 10 ==0:\n",
    "            \n",
    "        run_epoch(test_loader, test_accuracy, train=False)\n",
    "\n",
    "        train_acc, train_loss = train_accuracy.running_stat()\n",
    "        test_acc, test_loss = test_accuracy.running_stat()\n",
    "        accuracy_graph['train'].append(train_acc)\n",
    "        accuracy_graph['test'].append(test_acc) \n",
    "        accuracy_graph['epoch'].append(epoch)\n",
    "        loss_graph['train'].append(train_loss)\n",
    "        loss_graph['test'].append(test_loss)\n",
    "        loss_graph['epoch'].append(epoch)\n",
    "        \n",
    "        # Upodate log\n",
    "        log_accuracy = \"\\ntrain accuracy: {:.2f}%, test accuracy: {:.2f}%\".format(train_acc, \n",
    "                                                                                  test_acc)\n",
    "        log_epoch = \"\\nepoch:{}, train_loss: {:.4f}, test_loss: {:.4f}\".format(epoch+1, \n",
    "                                                                               train_loss, \n",
    "                                                                               test_loss)\n",
    "\n",
    "        with open(\"log_alexnet.txt\", \"a\") as log:\n",
    "            log.write(log_accuracy)\n",
    "            log.write(log_epoch)\n",
    "            print(log_accuracy, log_epoch) \n",
    "\n",
    "        train_accuracy.reset(), test_accuracy.reset()\n",
    "        \n",
    "        # Model save\n",
    "        torch.save(model.state_dict(), \"./alexnet.pt\")"
   ]
  },
  {
   "cell_type": "markdown",
   "metadata": {},
   "source": [
    "## Plot loss curve and accuracy"
   ]
  },
  {
   "cell_type": "markdown",
   "metadata": {},
   "source": [
    "#### Curves for LeNet"
   ]
  },
  {
   "cell_type": "code",
   "execution_count": 90,
   "metadata": {},
   "outputs": [
    {
     "data": {
      "image/png": "[encoded data removed]",
      "text/plain": [
       "<Figure size 432x288 with 1 Axes>"
      ]
     },
     "metadata": {
      "needs_background": "light"
     },
     "output_type": "display_data"
    },
    {
     "data": {
      "image/png": "[encoded data removed]",
      "text/plain": [
       "<Figure size 432x288 with 1 Axes>"
      ]
     },
     "metadata": {
      "needs_background": "light"
     },
     "output_type": "display_data"
    }
   ],
   "source": [
    "# plot accuracy curve\n",
    "plt.plot(accuracy_graph['epoch'], accuracy_graph['train'], label = \"train accuracy\");\n",
    "plt.plot(accuracy_graph['epoch'], accuracy_graph['test'], label = \"test_accuracy\");\n",
    "plt.legend()\n",
    "plt.xlabel(\"epoch\")\n",
    "plt.ylabel(\"accuracy\")\n",
    "plt.show()\n",
    "\n",
    "# plot loss curve\n",
    "plot_loss_train = plt.plot(loss_graph['epoch'], loss_graph['train'], label=\"train loss\");\n",
    "plt.plot(loss_graph['epoch'], loss_graph['test'], label=\"test loss\");\n",
    "plt.legend()\n",
    "plt.xlabel(\"epoch\")\n",
    "plt.ylabel(\"loss\")\n",
    "plt.show()"
   ]
  },
  {
   "cell_type": "markdown",
   "metadata": {},
   "source": [
    "#### Curves for AlexNet"
   ]
  },
  {
   "cell_type": "code",
   "execution_count": 104,
   "metadata": {},
   "outputs": [
    {
     "data": {
      "image/png": "[encoded data removed]",
      "text/plain": [
       "<Figure size 432x288 with 1 Axes>"
      ]
     },
     "metadata": {
      "needs_background": "light"
     },
     "output_type": "display_data"
    },
    {
     "data": {
      "image/png": "[encoded data removed]",
      "text/plain": [
       "<Figure size 432x288 with 1 Axes>"
      ]
     },
     "metadata": {
      "needs_background": "light"
     },
     "output_type": "display_data"
    }
   ],
   "source": [
    "# plot accuracy curve\n",
    "plt.plot(accuracy_graph['epoch'], accuracy_graph['train'], label = \"train accuracy\");\n",
    "plt.plot(accuracy_graph['epoch'], accuracy_graph['test'], label = \"test_accuracy\");\n",
    "plt.legend()\n",
    "plt.xlabel(\"epoch\")\n",
    "plt.ylabel(\"accuracy\")\n",
    "plt.show()\n",
    "\n",
    "# plot loss curve\n",
    "plot_loss_train = plt.plot(loss_graph['epoch'], loss_graph['train'], label=\"train loss\");\n",
    "plt.plot(loss_graph['epoch'], loss_graph['test'], label=\"test loss\");\n",
    "plt.legend()\n",
    "plt.xlabel(\"epoch\")\n",
    "plt.ylabel(\"loss\")\n",
    "plt.show()"
   ]
  },
  {
   "cell_type": "code",
   "execution_count": null,
   "metadata": {},
   "outputs": [],
   "source": []
  }
 ],
 "metadata": {
  "accelerator": "GPU",
  "colab": {
   "authorship_tag": "ABX9TyOmZXgAUCMa6V8W/FL4aw7N",
   "collapsed_sections": [],
   "include_colab_link": true,
   "name": "skeleton_CIFAR.ipynb",
   "provenance": [],
   "toc_visible": true
  },
  "kernelspec": {
   "display_name": "Python 3",
   "language": "python",
   "name": "python3"
  },
  "language_info": {
   "codemirror_mode": {
    "name": "ipython",
    "version": 3
   },
   "file_extension": ".py",
   "mimetype": "text/x-python",
   "name": "python",
   "nbconvert_exporter": "python",
   "pygments_lexer": "ipython3",
   "version": "3.7.6"
  }
 },
 "nbformat": 4,
 "nbformat_minor": 4
}
